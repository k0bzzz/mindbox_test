{
 "cells": [
  {
   "cell_type": "markdown",
   "id": "355359b2-b399-443a-bdff-f171e721e0ac",
   "metadata": {},
   "source": [
    "## Задание\n",
    "Нашей компании нужно сгруппировать клиентов для АБ-тестов. Алгоритм группировки очень простой - взять ID клиента (состоит из 5-7 цифр, например 7412567) и найти сумму всех его цифр. Получившееся число и является номером группы, в которую входит данный клиент.\n",
    "\n",
    "Для того, чтобы понять, насколько хорош такой простой алгоритм, тебе нужно написать следующие диагностические функции:\n",
    "\n",
    "1. Функция, которая подсчитывает число покупателей, попадающих в каждую группу, если нумерация ID сквозная и начинается с 0. На вход функция получает целое число n_customers (количество клиентов).\n",
    "2. Функция, аналогичная первой, если ID начинается с произвольного числа. На вход функция получает целые числа: n_customers (количество клиентов) и n_first_id (первый ID в последовательности)."
   ]
  },
  {
   "cell_type": "code",
   "execution_count": 1,
   "id": "16ee17c9-15d2-4a7e-a3c9-e3e7333bad7f",
   "metadata": {},
   "outputs": [],
   "source": [
    "import time"
   ]
  },
  {
   "cell_type": "code",
   "execution_count": 2,
   "id": "1ff6a91e-0c71-490c-876f-f836adc795d1",
   "metadata": {},
   "outputs": [],
   "source": [
    "n_customers = 10000000\n",
    "n_first_id = 1000"
   ]
  },
  {
   "cell_type": "markdown",
   "id": "f3d4c7f9-bf2b-4f3c-937a-038181fd9da5",
   "metadata": {},
   "source": [
    "## Реализация без импортированных модулей"
   ]
  },
  {
   "cell_type": "code",
   "execution_count": 3,
   "id": "f68cfb7d-9531-4664-b2ce-14a5802ef833",
   "metadata": {},
   "outputs": [],
   "source": [
    "def get_groups_from_zero(n_customers: int) -> dict:\n",
    "    groups = {}\n",
    "    for customer_id in range(n_customers):\n",
    "        group = sum(map(int,str(customer_id)))\n",
    "        if group in groups:\n",
    "            groups[group] += 1\n",
    "        else:\n",
    "            groups[group] = 1\n",
    "    return groups"
   ]
  },
  {
   "cell_type": "code",
   "execution_count": 4,
   "id": "d7ea0ff0-9a13-4072-9cc6-d823453df46e",
   "metadata": {},
   "outputs": [
    {
     "name": "stdout",
     "output_type": "stream",
     "text": [
      "CPU times: total: 14.3 s\n",
      "Wall time: 14.3 s\n"
     ]
    }
   ],
   "source": [
    "%%time\n",
    "groups = get_groups_from_zero(n_customers)"
   ]
  },
  {
   "cell_type": "code",
   "execution_count": 5,
   "id": "77055ca3-2861-4976-a089-633f43a390d8",
   "metadata": {},
   "outputs": [],
   "source": [
    "def get_groups_from_n(n_customers: int, n_first_id: int) -> dict:\n",
    "    last_id = n_first_id + n_customers\n",
    "    groups = {}\n",
    "    for customer_id in range(n_first_id, last_id):\n",
    "        group = sum(map(int,str(customer_id)))\n",
    "        if group in groups:\n",
    "            groups[group] += 1\n",
    "        else:\n",
    "            groups[group] = 1\n",
    "    return groups"
   ]
  },
  {
   "cell_type": "code",
   "execution_count": 6,
   "id": "ab22d881-46d5-465b-8ce1-3322e7a60031",
   "metadata": {},
   "outputs": [
    {
     "name": "stdout",
     "output_type": "stream",
     "text": [
      "CPU times: total: 14.4 s\n",
      "Wall time: 14.4 s\n"
     ]
    }
   ],
   "source": [
    "%%time\n",
    "groups = get_groups_from_n(n_customers, n_first_id)"
   ]
  },
  {
   "cell_type": "markdown",
   "id": "d9175374-87d6-4d10-bcf8-68fd55e3b2bb",
   "metadata": {},
   "source": [
    "## Реализация через collections.Counter"
   ]
  },
  {
   "cell_type": "code",
   "execution_count": 7,
   "id": "f7a947bc-3a2f-4e26-b4e5-daa136fcd8f9",
   "metadata": {},
   "outputs": [],
   "source": [
    "from collections import Counter"
   ]
  },
  {
   "cell_type": "code",
   "execution_count": 8,
   "id": "8c0564d1-4f96-4279-ad2e-3e9118ad7fd7",
   "metadata": {},
   "outputs": [],
   "source": [
    "def get_groups_from_zero_1(n_customers: int) -> dict:\n",
    "    groups = []\n",
    "    for customer_id in range(n_customers):\n",
    "        group = sum(map(int,str(customer_id)))\n",
    "        groups.append(group)\n",
    "    return dict(Counter(groups))"
   ]
  },
  {
   "cell_type": "code",
   "execution_count": 9,
   "id": "aea4770d-ac91-45e4-bad2-c678b8c1285a",
   "metadata": {},
   "outputs": [
    {
     "name": "stdout",
     "output_type": "stream",
     "text": [
      "CPU times: total: 13.4 s\n",
      "Wall time: 13.4 s\n"
     ]
    }
   ],
   "source": [
    "%%time\n",
    "groups = get_groups_from_zero_1(n_customers)"
   ]
  },
  {
   "cell_type": "code",
   "execution_count": 10,
   "id": "754c079e-fd64-4085-bbd0-1439d39a733d",
   "metadata": {},
   "outputs": [],
   "source": [
    "def get_groups_from_n_1(n_customers: int, n_first_id: int) -> dict:\n",
    "    last_id = n_first_id + n_customers\n",
    "    groups = []\n",
    "    for customer_id in range(n_first_id, last_id):\n",
    "        group = sum(map(int,str(customer_id)))\n",
    "        groups.append(group)\n",
    "    return dict(Counter(groups))"
   ]
  },
  {
   "cell_type": "code",
   "execution_count": 11,
   "id": "2c14b9cf-4d2b-4ba2-92ad-0e059c95abde",
   "metadata": {},
   "outputs": [
    {
     "name": "stdout",
     "output_type": "stream",
     "text": [
      "CPU times: total: 13.1 s\n",
      "Wall time: 13.1 s\n"
     ]
    }
   ],
   "source": [
    "%%time\n",
    "groups = get_groups_from_n_1(n_customers, n_first_id)"
   ]
  }
 ],
 "metadata": {
  "kernelspec": {
   "display_name": "Python 3 (ipykernel)",
   "language": "python",
   "name": "python3"
  },
  "language_info": {
   "codemirror_mode": {
    "name": "ipython",
    "version": 3
   },
   "file_extension": ".py",
   "mimetype": "text/x-python",
   "name": "python",
   "nbconvert_exporter": "python",
   "pygments_lexer": "ipython3",
   "version": "3.9.12"
  }
 },
 "nbformat": 4,
 "nbformat_minor": 5
}
